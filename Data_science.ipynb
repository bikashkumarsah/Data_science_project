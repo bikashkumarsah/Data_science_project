{
 "cells": [
  {
   "cell_type": "markdown",
   "metadata": {},
   "source": [
    "# Mini Project: Exploring Factors Influencing Academic Performance"
   ]
  },
  {
   "cell_type": "markdown",
   "metadata": {},
   "source": [
    "### This project analyzes a dataset collected from a student survey to explore potential factors that might influence academic performance."
   ]
  },
  {
   "cell_type": "markdown",
   "metadata": {},
   "source": [
    "# 1. Introduction"
   ]
  },
  {
   "cell_type": "markdown",
   "metadata": {},
   "source": [
    "### This project aims to uncover insights into factors potentially affecting student academic performance using a dataset from a student survey. We'll explore various demographic, academic, and social factors through data cleaning, exploratory data analysis (EDA), and visualization techniques."
   ]
  },
  {
   "cell_type": "markdown",
   "metadata": {},
   "source": [
    "# 2. Data Source"
   ]
  },
  {
   "cell_type": "markdown",
   "metadata": {},
   "source": [
    "### The dataset used in this project was sourced from https://www.kaggle.com/datasets/joshuanaude/effects-of-alcohol-on-student-performance."
   ]
  },
  {
   "cell_type": "markdown",
   "metadata": {},
   "source": [
    "### Problem Definition:\n",
    "#### The dataset is related to student life and various factors affecting it. Potential questions could include:\n",
    "#### 1. How does alcohol consumption impact academic performance?\n",
    "#### 2. Is there a correlation between accommodation type and academic success?\n",
    "#### 3. Do students' relationships with their parents affect their alcohol consumptions habits?"
   ]
  },
  {
   "cell_type": "markdown",
   "metadata": {},
   "source": [
    "# 3. Data Cleaning and Preparation"
   ]
  },
  {
   "cell_type": "markdown",
   "metadata": {},
   "source": [
    "### Importing Necessary Library"
   ]
  },
  {
   "cell_type": "code",
   "execution_count": null,
   "metadata": {},
   "outputs": [],
   "source": [
    "import pandas as pd\n",
    "import numpy as np \n",
    "import matplotlib.pyplot as plt\n",
    "import seaborn as sns\n",
    "import re"
   ]
  },
  {
   "cell_type": "code",
   "execution_count": null,
   "metadata": {},
   "outputs": [],
   "source": [
    "# load the dataset in pandas framework\n",
    "df=pd.read_csv(\"/Users/bikashkumarsah/Downloads/survey121.csv\")"
   ]
  },
  {
   "cell_type": "code",
   "execution_count": null,
   "metadata": {
    "scrolled": true
   },
   "outputs": [],
   "source": [
    "#Showing the first 5 column\n",
    "df.head()"
   ]
  },
  {
   "cell_type": "markdown",
   "metadata": {},
   "source": [
    "### Dataset dimension and information"
   ]
  },
  {
   "cell_type": "code",
   "execution_count": null,
   "metadata": {},
   "outputs": [],
   "source": [
    "df.shape"
   ]
  },
  {
   "cell_type": "code",
   "execution_count": null,
   "metadata": {
    "scrolled": true
   },
   "outputs": [],
   "source": [
    "df.info()"
   ]
  },
  {
   "cell_type": "code",
   "execution_count": null,
   "metadata": {},
   "outputs": [],
   "source": [
    "df.describe()"
   ]
  },
  {
   "cell_type": "markdown",
   "metadata": {},
   "source": [
    "### Since the timestamp is not required for the analysis, we can drop it\n",
    "### It only contains the submission date and time of the survey"
   ]
  },
  {
   "cell_type": "code",
   "execution_count": null,
   "metadata": {},
   "outputs": [],
   "source": [
    "df=df.drop(columns=\"Timestamp\")"
   ]
  },
  {
   "cell_type": "code",
   "execution_count": null,
   "metadata": {
    "scrolled": true
   },
   "outputs": [],
   "source": [
    "df"
   ]
  },
  {
   "cell_type": "markdown",
   "metadata": {},
   "source": [
    "### Renaming Columns: Columns were renamed for clarity and consistency."
   ]
  },
  {
   "cell_type": "code",
   "execution_count": null,
   "metadata": {},
   "outputs": [],
   "source": [
    "df.rename(columns={'Social': 'Socializing Frequency'}, inplace=True)\n",
    "df.rename(columns={'Your Sex?': 'Sex'}, inplace=True)\n",
    "df.rename(columns={'Your Matric (grade 12) Average/ GPA (in %)': 'Grade 12 GPA(%)'}, inplace=True)\n",
    "df.rename(columns={'What year were you in last year (2023) ?': 'Previous Academic Year(2023)'}, inplace=True)\n",
    "df.rename(columns={'What faculty does your degree fall under?': 'Enrolled Faculty'}, inplace=True)\n",
    "df.rename(columns={'Your 2023 academic year average/GPA in % (Ignore if you are 2024 1st year student)': '2023 GPA(%)'}, inplace=True)\n",
    "df.rename(columns={'Were you on scholarship/bursary in 2023?': 'Scholarships(2023)'}, inplace=True)\n",
    "df.rename(columns={'Additional amount of studying (in hrs) per week': 'Additional Study hrs/week'}, inplace=True)\n",
    "df.rename(columns={'On a night out, how many alcoholic drinks do you consume?': 'Alcoholic Drinks/Night'}, inplace=True)\n",
    "df.rename(columns={'How many classes do you miss per week due to alcohol reasons, (i.e: being hungover or too tired?)': 'Classes Missed/Week (Alcohol)'}, inplace=True)\n",
    "df.rename(columns={'How many modules have you failed thus far into your studies?': 'Failed Modules to Date'}, inplace=True)\n",
    "df.rename(columns={'Are you currently in a romantic relationship?': 'Relationship Status'}, inplace=True)\n",
    "df.rename(columns={'Do your parents approve alcohol consumption?': 'Parental Approval of Alcohol'}, inplace=True)\n",
    "df.rename(columns={'How strong is your relationship with your parent/s?': 'Relationship with Parents'}, inplace=True)\n",
    "df.rename(columns={'Your Accommodation Status Last Year (2023)': 'Accommodation Status(2023)'}, inplace=True)\n",
    "df"
   ]
  },
  {
   "cell_type": "markdown",
   "metadata": {},
   "source": [
    "### Data Transformation:\n",
    "### Range values in 'Monthly Allowance in 2023' were converted to their mean values."
   ]
  },
  {
   "cell_type": "code",
   "execution_count": null,
   "metadata": {},
   "outputs": [],
   "source": [
    "import numpy as np\n",
    "import re\n",
    "def calculate_mean(range_str):\n",
    "    # Define regular expression pattern to extract lower and upper bounds\n",
    "    pattern = r'R\\s*(\\d+)\\s*-\\s*R\\s*(\\d+)'\n",
    "    match = re.match(pattern, range_str)\n",
    "    if match:\n",
    "        lower = int(match.group(1))\n",
    "        upper = int(match.group(2))\n",
    "        return (lower + upper) / 2\n",
    "    else:\n",
    "        # If no match found, return NaN\n",
    "        return None\n",
    "\n",
    "# Apply the calculate_mean function to the specific column\n",
    "df['Monthly Allowance in 2023'] = df['Monthly Allowance in 2023'].astype(str).apply(calculate_mean)"
   ]
  },
  {
   "cell_type": "markdown",
   "metadata": {},
   "source": [
    "### Categorical variables like 'Additional Study hrs/week', 'Alcoholic Drinks/Night', etc., were converted to numerical representations."
   ]
  },
  {
   "cell_type": "code",
   "execution_count": null,
   "metadata": {},
   "outputs": [],
   "source": [
    "# Convert \"Additional Study hrs/week\" to numerical\n",
    "df['Additional Study hrs/week'] = df['Additional Study hrs/week'].replace({'1-3': 2, '3-5': 4, '5-8': 6, '8+': 9, '0': 0})\n",
    "df['Alcoholic Drinks/Night'] = df['Alcoholic Drinks/Night'].replace({'1-3': 2, '3-5': 4, '5-8': 6, '8+': 9, '0': 0})\n",
    "df['Classes Missed/Week (Alcohol)'] = df['Classes Missed/Week (Alcohol)'].replace({'4+': 5, '0': 0,'1':1,'2':2,'3':3})\n",
    "df['Scholarships(2023)'] = df['Scholarships(2023)'].replace({'Yes (NSFAS, etc...)': 'Yes'})\n",
    "df['Socializing Frequency'] = df['Socializing Frequency'].replace({'Only weekends': 2,'4+':5})\n",
    "df['Failed Modules to Date'] = df['Failed Modules to Date'].replace({'4+':5})"
   ]
  },
  {
   "cell_type": "markdown",
   "metadata": {},
   "source": [
    "### Checking Null values"
   ]
  },
  {
   "cell_type": "code",
   "execution_count": null,
   "metadata": {},
   "outputs": [],
   "source": [
    "a=df.isnull().sum()\n",
    "a"
   ]
  },
  {
   "cell_type": "markdown",
   "metadata": {},
   "source": [
    "## Handling Missing Values:"
   ]
  },
  {
   "cell_type": "markdown",
   "metadata": {},
   "source": [
    "### Rows with missing values in critical columns (e.g., 'Additional Study hrs/week', 'Failed Modules to Date') were dropped."
   ]
  },
  {
   "cell_type": "code",
   "execution_count": null,
   "metadata": {},
   "outputs": [],
   "source": [
    "# Drop rows with missing values in 'Column1'\n",
    "df.dropna(subset=['Additional Study hrs/week'], inplace=True)\n",
    "df.dropna(subset=['Classes Missed/Week (Alcohol)'], inplace=True)\n",
    "df.dropna(subset=['Failed Modules to Date'], inplace=True)\n",
    "df.dropna(subset=['Relationship Status'], inplace=True)\n",
    "df.dropna(subset=['Parental Approval of Alcohol'], inplace=True)\n",
    "df.dropna(subset=['Relationship with Parents'], inplace=True)\n",
    "df.dropna(subset=['Scholarships(2023)'], inplace=True)\n",
    "df.dropna(subset=['Enrolled Faculty'], inplace=True)\n",
    "df.dropna(subset=['Grade 12 GPA(%)'], inplace=True)"
   ]
  },
  {
   "cell_type": "code",
   "execution_count": null,
   "metadata": {},
   "outputs": [],
   "source": [
    "a=df.isnull().sum()\n",
    "a"
   ]
  },
  {
   "cell_type": "markdown",
   "metadata": {},
   "source": [
    "### Missing values in 'Monthly Allowance in 2023' were imputed with the median allowance."
   ]
  },
  {
   "cell_type": "code",
   "execution_count": null,
   "metadata": {},
   "outputs": [],
   "source": [
    "median_allowance = df['Monthly Allowance in 2023'].median()\n",
    "\n",
    "# Fill NaN values with the calculated median\n",
    "df['Monthly Allowance in 2023'].fillna(median_allowance, inplace=True) \n",
    "\n",
    "# Check if NaNs have been replaced\n",
    "print(df['Monthly Allowance in 2023'].isnull().sum()) "
   ]
  },
  {
   "cell_type": "markdown",
   "metadata": {},
   "source": [
    "### Missing values in 'Accommodation Status(2023)' were filled randomly using forward or backward fill."
   ]
  },
  {
   "cell_type": "code",
   "execution_count": null,
   "metadata": {},
   "outputs": [],
   "source": [
    "def random_fill(df, column_name):\n",
    "  \"\"\"Fills NaNs in a column randomly using forward or backward fill.\n",
    "\n",
    "  Args:\n",
    "    df: The pandas DataFrame.\n",
    "    column_name: The name of the column to fill.\n",
    "  \"\"\"\n",
    "\n",
    "  for i in df.index:\n",
    "    if pd.isna(df.loc[i, column_name]):\n",
    "      # Randomly choose forward or backward fill\n",
    "      fill_method = np.random.choice(['ffill', 'bfill'])\n",
    "      df.loc[i, column_name] = df[column_name].fillna(method=fill_method).loc[i] \n",
    "\n",
    "# Assuming your DataFrame is named 'df' and your column is 'Previous Academic Year(2023)'\n",
    "\n",
    "random_fill(df, 'Accommodation Status(2023)')"
   ]
  },
  {
   "cell_type": "markdown",
   "metadata": {},
   "source": [
    "### Missing values in 'Previous Academic Year(2023)' were imputed with the mode within each faculty."
   ]
  },
  {
   "cell_type": "code",
   "execution_count": null,
   "metadata": {},
   "outputs": [],
   "source": [
    "# Example: Imputing with mode within each faculty\n",
    "df['Previous Academic Year(2023)'] = df.groupby('Enrolled Faculty')['Previous Academic Year(2023)'].transform(lambda x: x.fillna(x.mode()[0] if not x.mode().empty else 'Unknown'))"
   ]
  },
  {
   "cell_type": "markdown",
   "metadata": {},
   "source": [
    "### Missing values in '2023 GPA(%)' were imputed using a linear regression model trained on other features."
   ]
  },
  {
   "cell_type": "code",
   "execution_count": null,
   "metadata": {},
   "outputs": [],
   "source": [
    "import pandas as pd\n",
    "from sklearn.linear_model import LinearRegression\n",
    "from sklearn.model_selection import train_test_split\n",
    "from sklearn.preprocessing import OneHotEncoder\n",
    "\n",
    "\n",
    "# 2. Split data into those with and without missing GPAs:\n",
    "df_missing = df[df['2023 GPA(%)'].isnull()]\n",
    "df_complete = df[df['2023 GPA(%)'].notnull()]\n",
    "\n",
    "# 3. Prepare data for regression:\n",
    "# Select predictor columns\n",
    "predictors = ['Grade 12 GPA(%)', 'Additional Study hrs/week'] \n",
    "\n",
    "# One-hot encode categorical predictors (if any) - NOT NEEDED IN THIS CASE\n",
    "# You would need this if you had categorical predictors like 'Enrolled Faculty'\n",
    "# encoder = OneHotEncoder(handle_unknown='ignore')\n",
    "# X_encoded = encoder.fit_transform(df_complete[categorical_predictors]).toarray()\n",
    "\n",
    "# Create separate DataFrames for predictors and target\n",
    "X_complete = df_complete[predictors]\n",
    "y_complete = df_complete['2023 GPA(%)']\n",
    "\n",
    "# 4. Split complete data into training and testing sets:\n",
    "X_train, X_test, y_train, y_test = train_test_split(X_complete, y_complete, test_size=0.2, random_state=42)\n",
    "\n",
    "# 5. Train the regression model:\n",
    "model = LinearRegression()\n",
    "model.fit(X_train, y_train)\n",
    "\n",
    "# 6. Evaluate model performance (optional, but recommended):\n",
    "# You can use metrics like R-squared or Mean Squared Error to see how well the model performs\n",
    "# on the test set.\n",
    "\n",
    "# 7. Predict missing GPAs:\n",
    "X_missing = df_missing[predictors]\n",
    "imputed_gpas = model.predict(X_missing)\n",
    "\n",
    "\n",
    "\n",
    "# 8. Fill missing values in the original DataFrame:\n",
    "df_missing['2023 GPA(%)'] = imputed_gpas\n",
    "df = pd.concat([df_complete, df_missing])"
   ]
  },
  {
   "cell_type": "code",
   "execution_count": null,
   "metadata": {},
   "outputs": [],
   "source": [
    "df"
   ]
  },
  {
   "cell_type": "markdown",
   "metadata": {},
   "source": [
    "### Round the imputed '2023 GPA(%)' values to two decimal places."
   ]
  },
  {
   "cell_type": "code",
   "execution_count": null,
   "metadata": {},
   "outputs": [],
   "source": [
    "df['2023 GPA(%)'] = df['2023 GPA(%)'].round(2)"
   ]
  },
  {
   "cell_type": "code",
   "execution_count": null,
   "metadata": {
    "scrolled": true
   },
   "outputs": [],
   "source": [
    "a=df.isnull().sum()\n",
    "a"
   ]
  },
  {
   "cell_type": "markdown",
   "metadata": {},
   "source": [
    "# 4. Exploratory Data Analysis (EDA) and Visualizations"
   ]
  },
  {
   "cell_type": "markdown",
   "metadata": {},
   "source": [
    "### We performed extensive EDA to uncover patterns and relationships within the data. Key visualizations and findings include:"
   ]
  },
  {
   "cell_type": "markdown",
   "metadata": {},
   "source": [
    "### Demographic Distribution:\n",
    "#### Pie charts were used to visualize the gender distribution and academic year distribution of the surveyed students."
   ]
  },
  {
   "cell_type": "code",
   "execution_count": null,
   "metadata": {},
   "outputs": [],
   "source": [
    "# Gender distribution\n",
    "gender_distribution = df['Sex'].value_counts()\n",
    "\n",
    "# Academic year distribution\n",
    "academic_year_distribution = df['Previous Academic Year(2023)'].value_counts()\n",
    "\n",
    "# Plotting the pie charts\n",
    "plt.figure(figsize=(16, 8))\n",
    "\n",
    "# Gender distribution pie chart\n",
    "plt.subplot(1, 2, 1)\n",
    "plt.pie(gender_distribution, labels=gender_distribution.index, autopct='%1.1f%%', startangle=140, colors=['skyblue', 'lightgreen'])\n",
    "plt.title('Gender Distribution Among Surveyed Students')\n",
    "\n",
    "# Academic year distribution pie chart\n",
    "plt.subplot(1, 2, 2)\n",
    "plt.pie(academic_year_distribution, labels=academic_year_distribution.index, autopct='%1.1f%%', startangle=140, colors=['orange', 'lightcoral','blue','skyblue','red'])\n",
    "plt.title('Academic Year Distribution Among Surveyed Students')\n",
    "\n",
    "plt.tight_layout()"
   ]
  },
  {
   "cell_type": "markdown",
   "metadata": {},
   "source": [
    "### Accommodation and Relationship Status:\n",
    "#### Grouped bar charts illustrated the distribution of accommodation status and relationship status across different academic years."
   ]
  },
  {
   "cell_type": "code",
   "execution_count": null,
   "metadata": {},
   "outputs": [],
   "source": [
    "# Accommodation status by academic year\n",
    "\n",
    "\n",
    "# Grouping the data by 'Previous Academic Year' and 'Accommodation Status' and counting the occurrences\n",
    "accommodation_counts = df.groupby(['Previous Academic Year(2023)', 'Accommodation Status(2023)']).size().unstack()\n",
    "\n",
    "# Plotting the data\n",
    "accommodation_counts.plot(kind='bar', stacked=False, figsize=(10, 7))\n",
    "plt.title('Accommodation Status by Academic Year')\n",
    "plt.xlabel('Academic Year')\n",
    "plt.ylabel('Number of Students')\n",
    "plt.legend(title='Accommodation Status')\n",
    "plt.xticks(rotation=45)\n",
    "plt.show()"
   ]
  },
  {
   "cell_type": "code",
   "execution_count": null,
   "metadata": {},
   "outputs": [],
   "source": [
    "# Relationship status by academic year\n",
    "\n",
    "\n",
    "# Grouping the data by 'Previous Academic Year' and 'Relationship Status' and counting the occurrences\n",
    "relationship_counts = df.groupby(['Previous Academic Year(2023)', 'Relationship Status']).size().unstack()\n",
    "\n",
    "# Plotting the data\n",
    "relationship_counts.plot(kind='bar', stacked=False, figsize=(10, 7))\n",
    "plt.title('Relationship Status by Academic Year')\n",
    "plt.xlabel('Academic Year')\n",
    "plt.ylabel('Number of Students')\n",
    "plt.legend(title='Relationship Status')\n",
    "plt.xticks(rotation=45)\n",
    "plt.show()"
   ]
  },
  {
   "cell_type": "markdown",
   "metadata": {},
   "source": [
    "### Parental Approval of Alcohol:\n",
    "#### A grouped bar chart showed the distribution of parental approval of alcohol consumption across academic years."
   ]
  },
  {
   "cell_type": "code",
   "execution_count": null,
   "metadata": {
    "scrolled": false
   },
   "outputs": [],
   "source": [
    "# Parental Approval for alcohol consumption by academic year\n",
    "\n",
    "\n",
    "# Grouping the data by 'Previous Academic Year' and 'Parental Approval of Alcohol' and counting the occurrences\n",
    "parental_approval_counts = df.groupby(['Previous Academic Year(2023)', 'Parental Approval of Alcohol']).size().unstack()\n",
    "\n",
    "# Plotting the data\n",
    "parental_approval_counts.plot(kind='bar', stacked=False, figsize=(10, 7))\n",
    "plt.title('Parental Approval of Alcohol by Academic Year')\n",
    "plt.xlabel('Academic Year')\n",
    "plt.ylabel('Number of Students')\n",
    "plt.legend(title='Parental Approval of Alcohol')\n",
    "plt.xticks(rotation=45)\n",
    "plt.show()"
   ]
  },
  {
   "cell_type": "markdown",
   "metadata": {},
   "source": [
    "### Grade Distribution:\n",
    "#### Histograms and box plots were used to visualize the distribution of grades (both Grade 12 and 2023 academic year averages) and identify potential outliers."
   ]
  },
  {
   "cell_type": "code",
   "execution_count": null,
   "metadata": {},
   "outputs": [],
   "source": [
    "# Distribution of students' grades (Grade 12 and Previous academic year)\n",
    "\n",
    "# histograms to see the frequency distributions of grades\n",
    "\n",
    "# Histogram for 12TH Grades\n",
    "plt.figure(figsize = (10, 6))\n",
    "df['Grade 12 GPA(%)'].hist(bins = 20)\n",
    "plt.title('Distribution of Grade 12 Marks')\n",
    "plt.xlabel('12th Marks (%)')\n",
    "plt.ylabel('Frequency')\n",
    "plt.grid(False)\n",
    "plt.show()\n",
    "\n",
    "\n",
    "# HIstogram for Previous academic years marks\n",
    "\n",
    "plt.figure(figsize = (10, 6))\n",
    "df['2023 GPA(%)'].hist(bins = 20)\n",
    "plt.title('Distribution of Previous academic year (2023) Marks')\n",
    "plt.xlabel('Marks (%)')\n",
    "plt.ylabel('Frequency')\n",
    "plt.grid(False)\n",
    "plt.show()"
   ]
  },
  {
   "cell_type": "code",
   "execution_count": null,
   "metadata": {
    "scrolled": false
   },
   "outputs": [],
   "source": [
    "# Box plot to understand the spread and identify any outliers in the data\n",
    "\n",
    "# Box plot for Grade 12 marks\n",
    "\n",
    "plt.figure(figsize = (10, 6))\n",
    "df.boxplot(column = 'Grade 12 GPA(%)')\n",
    "plt.title('Box plot of Grade 12 Marks')\n",
    "plt.ylabel('12th Marks (%)')\n",
    "plt.show()\n",
    "\n",
    "\n",
    "# Box plot for Previous academic year marks\n",
    "plt.figure(figsize = (10, 6))\n",
    "df.boxplot(column = '2023 GPA(%)')\n",
    "plt.title('Box plot of Previous academic year (2023) Marks')\n",
    "plt.ylabel('Marks (%)')\n",
    "plt.show()"
   ]
  },
  {
   "cell_type": "markdown",
   "metadata": {},
   "source": [
    "### Academic Performance by Gender:\n",
    "#### Box plots and violin plots were used to compare the distribution of 2023 academic year grades between genders."
   ]
  },
  {
   "cell_type": "code",
   "execution_count": null,
   "metadata": {},
   "outputs": [],
   "source": [
    "# How does the academic performance (2023 academic year average) vary by gender?\n",
    "\n",
    "# Box plot for the distribution of grades between different genders\n",
    "plt.figure(figsize = (10, 6))\n",
    "df.boxplot(column = '2023 GPA(%)', by = 'Sex')\n",
    "plt.title('Box plot of 2023 Marks by Gender')\n",
    "plt.suptitle('')\n",
    "plt.ylabel('Previous academic year marks (%)')\n",
    "plt.xlabel('Sex')\n",
    "plt.show()"
   ]
  },
  {
   "cell_type": "code",
   "execution_count": null,
   "metadata": {
    "scrolled": false
   },
   "outputs": [],
   "source": [
    "# Violin plot to show the density and distribution of grades by gender\n",
    "\n",
    "plt.figure(figsize = (10, 6))\n",
    "sns.violinplot(x = 'Sex', y = '2023 GPA(%)', data =df, inner = 'quartile')\n",
    "plt.title('Violin plot of 2023 Marks')\n",
    "plt.xlabel('Sex')\n",
    "plt.ylabel('Previous academic year marks (%)')\n",
    "plt.show()"
   ]
  },
  {
   "cell_type": "markdown",
   "metadata": {},
   "source": [
    "### Impact of Socializing and Alcohol:\n",
    "#### A box plot investigated the relationship between the frequency of alcohol consumption and academic performance.\n"
   ]
  },
  {
   "cell_type": "code",
   "execution_count": null,
   "metadata": {},
   "outputs": [],
   "source": [
    "# Relation between the frequency of alcohol consumption and academic performance\n",
    "\n",
    "plt.figure(figsize = (10, 6))\n",
    "# Box plot for the distribution of grades based on alcohol consumption\n",
    "\n",
    "# Box plot\n",
    "sns.boxplot(x = 'Socializing Frequency', y = '2023 GPA(%)', data = df)\n",
    "plt.title('Academic Performance by Frequency of Alcohol Consumption')\n",
    "plt.xlabel('Frequency of Alcohol Consumption')\n",
    "plt.ylabel('2023 marks (%)')\n",
    "plt.xticks(rotation=45)  # Rotate x labels if necessary\n",
    "plt.grid(True)\n",
    "\n",
    "plt.show()\n"
   ]
  },
  {
   "cell_type": "markdown",
   "metadata": {},
   "source": [
    "### Monthly Allowances, Accommodation, and Missed Classes:\n",
    "#### Histograms, box plots, and scatter plots were used to analyze the distribution of monthly allowances, the relationship between accommodation status and academic performance, and the correlation between missed classes due to alcohol and academic performance."
   ]
  },
  {
   "cell_type": "code",
   "execution_count": null,
   "metadata": {},
   "outputs": [],
   "source": [
    "# Distribution of Monthly Allowances:\n",
    "plt.figure(figsize=(8, 6))\n",
    "sns.histplot(df['Monthly Allowance in 2023'], bins=10, kde=False)\n",
    "plt.title('Distribution of Monthly Allowances')\n",
    "plt.xlabel('Monthly Allowance')\n",
    "plt.ylabel('Frequency')\n",
    "plt.show()"
   ]
  },
  {
   "cell_type": "code",
   "execution_count": null,
   "metadata": {},
   "outputs": [],
   "source": [
    "# Accommodation Status vs. Academic Performance:\n",
    "plt.figure(figsize=(8, 6))\n",
    "sns.boxplot(x='Accommodation Status(2023)', y='2023 GPA(%)', data=df)\n",
    "plt.title('Academic Performance by Accommodation Status')\n",
    "plt.xlabel('Accommodation Status')\n",
    "plt.ylabel('2023 GPA')\n",
    "plt.show()\n",
    "\n",
    "plt.figure(figsize=(8, 6))\n",
    "sns.barplot(x='Accommodation Status(2023)', y='2023 GPA(%)', data=df, ci=None) \n",
    "plt.title('Average Grades by Accommodation Status')\n",
    "plt.xlabel('Accommodation Status')\n",
    "plt.ylabel('Average 2023 GPA')\n",
    "plt.show()"
   ]
  },
  {
   "cell_type": "code",
   "execution_count": null,
   "metadata": {},
   "outputs": [],
   "source": [
    "# Missed Classes (Alcohol) vs. Academic Performance:\n",
    "plt.figure(figsize=(8, 6))\n",
    "sns.scatterplot(x='Classes Missed/Week (Alcohol)', y='2023 GPA(%)', data=df)\n",
    "plt.title('Correlation between Missed Classes (Alcohol) and Academic Performance')\n",
    "plt.xlabel('Classes Missed/Week (Alcohol)')\n",
    "plt.ylabel('2023 GPA')\n",
    "plt.show()\n",
    "\n",
    "plt.figure(figsize=(8, 6))\n",
    "sns.barplot(x='Classes Missed/Week (Alcohol)', y='2023 GPA(%)', data=df, ci=None)\n",
    "plt.title('Average Grades by Number of Classes Missed (Alcohol)')\n",
    "plt.xlabel('Classes Missed/Week (Alcohol)')\n",
    "plt.ylabel('Average 2023 GPA')\n",
    "plt.show()"
   ]
  },
  {
   "cell_type": "markdown",
   "metadata": {},
   "source": [
    "### Failed Modules and Relationship Status:\n",
    "#### Histograms, count plots, box plots, and bar plots were used to visualize the distribution of failed modules and explore potential relationships between romantic relationship status and academic performance."
   ]
  },
  {
   "cell_type": "code",
   "execution_count": null,
   "metadata": {},
   "outputs": [],
   "source": [
    "# Distribution of Failed Modules:\n",
    "plt.figure(figsize=(8, 6))\n",
    "df['Failed Modules to Date'] = df['Failed Modules to Date'].astype(str)\n",
    "sns.histplot(df['Failed Modules to Date'], bins=10, kde=False) \n",
    "sns.histplot(df['Failed Modules to Date'], bins=10, kde=False)\n",
    "plt.title('Distribution of Failed Modules')\n",
    "plt.xlabel('Number of Failed Modules')\n",
    "plt.ylabel('Frequency')\n",
    "plt.show()\n",
    "\n",
    "plt.figure(figsize=(8, 6))\n",
    "sns.countplot(x='Failed Modules to Date', data=df)\n",
    "plt.title('Counts of Failed Modules')\n",
    "plt.xlabel('Number of Failed Modules')\n",
    "plt.ylabel('Count')\n",
    "plt.show()"
   ]
  },
  {
   "cell_type": "code",
   "execution_count": null,
   "metadata": {},
   "outputs": [],
   "source": [
    "\n",
    "# Romantic Relationship vs. Academic Performance:\n",
    "plt.figure(figsize=(8, 6))\n",
    "sns.boxplot(x='Relationship Status', y='2023 GPA(%)', data=df)\n",
    "plt.title('Academic Performance by Relationship Status')\n",
    "plt.xlabel('Relationship Status')\n",
    "plt.ylabel('2023 GPA')\n",
    "plt.show()\n",
    "\n",
    "plt.figure(figsize=(8, 6))\n",
    "sns.barplot(x='Relationship Status', y='2023 GPA(%)', data=df, ci=None)\n",
    "plt.title('Average Grades by Relationship Status')\n",
    "plt.xlabel('Relationship Status')\n",
    "plt.ylabel('Average 2023 GPA')\n",
    "plt.show()"
   ]
  },
  {
   "cell_type": "markdown",
   "metadata": {},
   "source": [
    "# 5. Conclusion"
   ]
  },
  {
   "cell_type": "markdown",
   "metadata": {},
   "source": [
    "### The EDA provided valuable insights into factors potentially influencing student academic performance. We observed differences in grade distributions based on gender, alcohol consumption patterns, and other factors. Further analysis and potentially more sophisticated statistical modeling could be used to establish stronger conclusions and causal relationships"
   ]
  }
 ],
 "metadata": {
  "kernelspec": {
   "display_name": "Python 3 (ipykernel)",
   "language": "python",
   "name": "python3"
  },
  "language_info": {
   "codemirror_mode": {
    "name": "ipython",
    "version": 3
   },
   "file_extension": ".py",
   "mimetype": "text/x-python",
   "name": "python",
   "nbconvert_exporter": "python",
   "pygments_lexer": "ipython3",
   "version": "3.11.8"
  }
 },
 "nbformat": 4,
 "nbformat_minor": 2
}
